{
 "cells": [
  {
   "cell_type": "code",
   "execution_count": null,
   "metadata": {
    "collapsed": true
   },
   "outputs": [],
   "source": [
    "''' \n",
    "What commands should user see ?\n",
    "1. Make bill\n",
    "2. Search\n",
    "3. Add product\n",
    "4. Edit product\n",
    "5. Add client\n",
    "6. Edit client details\n",
    "\n",
    "what tables does database contain ?\n",
    "1. clients (contains client details)\n",
    "2. products (contains product details and remaining stock etc.)\n",
    "3. orders (contains order details)\n",
    "4. bills (contains billing information)\n",
    "+ other key tables to speed up the search\n",
    "\n",
    "what attributes does 'clients' table contain ?\n",
    "1. id(generated) (primary key)\n",
    "2. shopkeeper name\n",
    "3. shop name\n",
    "4. address\n",
    "5. contact number\n",
    "6. Tax number\n",
    "\n",
    "what attributes does 'products' table contain ?\n",
    "1. Product id (primary key)\n",
    "2. Category (eg., nails)\n",
    "3. Company (eg. Araldite)\n",
    "4. Size (eg. 2 inch)\n",
    "5. Unit definition (eg., 1 box, 1 dozen, 1 piece etc.)\n",
    "6. Selling price per unit (Rs 28)\n",
    "7. Tax percent (12.5%)\n",
    "8. Final selling price \n",
    "9. Available quantity\n",
    "\n",
    "what attributes does 'orders' table contain ?\n",
    "1. Order number (primary key)\n",
    "2. Bill number (foreign key)\n",
    "3. Product id (foreign key)\n",
    "4. Quantity\n",
    "5. Subtotal\n",
    "\n",
    "what attributes does 'bills' table contain ?\n",
    "01. Bill number (primary key)\n",
    "02. Bill type (new bill/ returning products)\n",
    "03. Client id (foreign key)\n",
    "04. Order Date\n",
    "05. Bill Amount\n",
    "06. Amount paid\n",
    "07. Paid/ Unpaid/ Partially Unpaid\n",
    "08. Due date (None if Bill is Paid)\n",
    "09. Mode of payment (cash/ cheque)\n",
    "10. Cheque number (revisit for cases of multiple cheques)\n",
    "11. Cheque date (same as above)\n",
    "12. Date on which bill was created (system date)\n",
    "\n",
    "\n",
    "\n",
    "'''"
   ]
  },
  {
   "cell_type": "code",
   "execution_count": 7,
   "metadata": {
    "collapsed": true
   },
   "outputs": [],
   "source": [
    "# Importing required libraries\n",
    "import sqlite3 as sql\n",
    "import os"
   ]
  },
  {
   "cell_type": "code",
   "execution_count": null,
   "metadata": {
    "collapsed": true
   },
   "outputs": [],
   "source": [
    "class start_application:\n",
    "    \n",
    "    def __init__(self):\n",
    "        \n",
    "        # first step is to establish connections to the database.\n",
    "        self.conn = self.connect_to('database.db')\n",
    "        # second step is to take input from user about what they want to do.\n",
    "        flag = True\n",
    "        while flag:\n",
    "            print('1.make bill\\n2.Search\\n3.Add product\\n4.Edit product\\n5.Add client\\n6.Edit client details')\n",
    "            choice = input('Please select an option by typing number. : ')\n",
    "            if choice in range(1,7):\n",
    "                flag = False\n",
    "            else:\n",
    "                print('Wrong input. Please enter any number between 1 to 6.\\n')\n",
    "        options = {1:self.make_bill(),2:self.search(),3:self.add_new_product(),4:self.edit_product(),5:self.add_client(),\n",
    "                   6:self.edit_client_details()}\n",
    "        \n",
    "    def connect_to(self, db_name = None):\n",
    "        if db_name == None:\n",
    "            db_name = 'database.db'\n",
    "        \n",
    "        # If program is being used for the first time, then database will not already exist. We will have to create one.\n",
    "        # Let us check whether database exists.\n",
    "        if not os.path.isfile(db_name):\n",
    "            \n",
    "            # We will use connect command to create a database and establish connection with it.\n",
    "            conn = sql.connect(db_name)\n",
    "            \n",
    "            # Now we will create required tables.\n",
    "            # 1. client table\n",
    "            query = 'CREATE TABLE clients('\n",
    "            query += 'client_id INTEGER PRIMARY KEY, '\n",
    "            query += 'shopkeeper_name TEXT, '\n",
    "            query += 'shop_name TEXT, '\n",
    "            query += 'address TEXT, '\n",
    "            query += 'contact_number INTEGER, '\n",
    "            query += 'tax_number TEXT);'\n",
    "            conn.execute(query)\n",
    "            \n",
    "            # 2. product table\n",
    "            query = 'CREATE TABLE products('\n",
    "            query += 'product_id INTEGER PRIMARY KEY, '\n",
    "            query += 'company TEXT, '\n",
    "            query += 'category TEXT, '\n",
    "            query += 'size TEXT, '\n",
    "            query += 'unit_definition TEXT, '\n",
    "            query += 'selling_price_per_unit REAL, '\n",
    "            query += 'tax_percent REAL, '\n",
    "            query += 'final_selling_price REAL, '\n",
    "            query += 'available_quantity INTEGER);'\n",
    "            conn.execute(query)\n",
    "            \n",
    "            # 3. bill table\n",
    "            query = 'CREATE TABLE bills('\n",
    "            query += 'bill_id INTEGER PRIMARY KEY, '\n",
    "            query += 'bill_type TEXT, '\n",
    "            query += 'client_number INTEGER, FOREIGN KEY(client_number) REFERENCES clients(client_id), '\n",
    "            query += 'order_date TEXT, '\n",
    "            query += 'bill_amount REAL, '\n",
    "            query += 'amount_paid REAL, '\n",
    "            query += 'paid_status TEXT, '\n",
    "            query += 'due_date TEXT, '\n",
    "            query += 'mode_of_payment TEXT, '\n",
    "            query += 'cheque_number INTEGER, '\n",
    "            query += 'cheque_date TEXT, '\n",
    "            query += 'bill_date TEXT);'\n",
    "            conn.execute(query)        \n",
    "        \n",
    "            # 4. order table\n",
    "            query = 'CREATE TABLE orders('\n",
    "            query += 'order_id INTEGER PRIMARY KEY, '\n",
    "            query += 'bill_number INTEGER, FOREIGN KEY(bill_number) REFERENCES bills(bill_id), '\n",
    "            query += 'product_number INTEGER, FOREIGN KEY(product_number) REFERENCES products(product_id), '\n",
    "            query += 'quantity INTEGER, '\n",
    "            query += 'subtotal REAL);'\n",
    "            conn.execute(query)\n",
    "            \n",
    "            \n",
    "        return sql.connect(db_name)\n",
    "    \n",
    "    def make_bill(self):\n",
    "        # Inform users what option they have seleted.\n",
    "        print('Creating a new bill.\\n')\n",
    "        \n",
    "        # First take general info and create a partially filled entry in bills table. Now that we have a bill id,\n",
    "        # we can take orders. After that again edit entry in bills table to add bill amount and related attributes.\n",
    "        \n",
    "        # Here, option of addin a new client or searching database for existing client will be given.\n",
    "        # At the end, we want client id for the bill.\n",
    "        \n",
    "    def search(self):\n",
    "        \n",
    "        \n",
    "    def add_new_product(self):\n",
    "        # Inform user what option they have selected.\n",
    "        print('Add new product. Kindly feel up the details as asked.\\n')\n",
    "        \n",
    "        # start building a query to insert a row into the product table.\n",
    "        query = 'INSERT INTO products VALUES('\n",
    "        \n",
    "        # Now we will take various inputs from user and add it to string query to create a full query.\n",
    "        # Later, remember to add checks for valid input. For now assume all inputs are valid.\n",
    "        company = input('Enter company: ')\n",
    "        query += company \n",
    "        category = input('Enter Category: ')\n",
    "        query += category\n",
    "        size = input('Enter size: ')\n",
    "        query += size\n",
    "        unit_def = input('Enter unit definition: ')\n",
    "        query += unit_def\n",
    "        selling_price = input('Enter selling price: ')\n",
    "        query += selling_price\n",
    "        tax_percent = (input('Enter tax percent')\n",
    "        query += tax_percent\n",
    "        final_selling_price = str(float(selling_price)*(1 + (float(tax_percent)/100)))\n",
    "        query += final_selling_price\n",
    "        available_quantity = input('Enter available quantity: ')\n",
    "        query += available_quantity + ');'\n",
    "        self.conn.execute(query)\n",
    "        \n",
    "    def edit_product(self):\n",
    "        \n",
    "    def add_client(self):\n",
    "        # Inform user what option they have selected.\n",
    "        print('Add new client. Kindly feel up the details as asked.\\n')\n",
    "        \n",
    "        # start building a query to insert a row into the client table.\n",
    "        query = 'INSERT INTO clients VALUES('\n",
    "        \n",
    "        # Now we will take various inputs from user and add it to string query to create a full query.\n",
    "        # Later, remember to add checks for valid input. For now assume all inputs are valid.\n",
    "        shopkeeper_name = input('Enter Shopkeeper name :')\n",
    "        query += shopkeeper_name + ', '\n",
    "        shop = input('Enter shop name: ')\n",
    "        query += shop + ', '\n",
    "        address = input('Enter address: ')\n",
    "        query += address + ', '\n",
    "        contact_number = input('Enter contact number: ')\n",
    "        query += contact_number + ', '\n",
    "        tax_number = input('Enter tax_number: ')\n",
    "        query += tax_number + ');'\n",
    "        self.conn.execute(query)\n",
    "        \n",
    "        print('Entry added.\\n')\n",
    "        \n",
    "        \n",
    "    def edit_client_details(self):\n",
    "        # Inform user what option they have selected.\n",
    "        print('You have selected edit client details option.\\n')\n",
    "        "
   ]
  },
  {
   "cell_type": "code",
   "execution_count": 11,
   "metadata": {
    "collapsed": true
   },
   "outputs": [],
   "source": [
    "a = sql.connect('a.db')"
   ]
  },
  {
   "cell_type": "code",
   "execution_count": 19,
   "metadata": {
    "collapsed": false
   },
   "outputs": [
    {
     "name": "stdout",
     "output_type": "stream",
     "text": [
      "[(123, 5, 'hello'), (124, 34, 'lol'), (125, 32765, 'klol')]\n"
     ]
    }
   ],
   "source": [
    "a.execute('DROP TABLE IF EXISTS test1;')\n",
    "a.execute('CREATE TABLE test1(a INT, b TEXT);')\n",
    "a.execute('INSERT INTO test1(rowid, a, b) VALUES(123, 5, \\'hello\\');')\n",
    "a.execute('INSERT INTO test1( a, b) VALUES(34, \\'lol\\');')\n",
    "a.execute('INSERT INTO test1 VALUES(32765, \\'klol\\');')\n",
    "print(a.execute('select rowid, * from test1;').fetchall())"
   ]
  },
  {
   "cell_type": "code",
   "execution_count": 29,
   "metadata": {
    "collapsed": false
   },
   "outputs": [
    {
     "name": "stdout",
     "output_type": "stream",
     "text": [
      "[] 0\n"
     ]
    }
   ],
   "source": [
    "a.execute('DROP TABLE IF EXISTS test2;')\n",
    "a.execute('CREATE TABLE test2(a INT, b TEXT);')\n",
    "truth1 = a.execute('SELECT name FROM sqlite_master WHERE type=\\'table\\' AND name=\\'table_name\\';').fetchall()\n",
    "truth2 = a.execute('SELECT name FROM sqlite_master WHERE type=\\'table\\' AND name=\\'test\\';').fetchall()\n",
    "print(truth1, len(truth2))"
   ]
  },
  {
   "cell_type": "code",
   "execution_count": 30,
   "metadata": {
    "collapsed": false
   },
   "outputs": [
    {
     "name": "stdout",
     "output_type": "stream",
     "text": [
      "enter table :'table'\n",
      "enter test1 :'test1'\n",
      "[('test1',)]\n"
     ]
    }
   ],
   "source": [
    "query = 'SELECT name FROM sqlite_master WHERE type='\n",
    "query += input('enter table :')\n",
    "query += ' AND name= '\n",
    "query += input('enter test1 :')\n",
    "query += ';'\n",
    "print(a.execute(query).fetchall())"
   ]
  },
  {
   "cell_type": "code",
   "execution_count": 23,
   "metadata": {
    "collapsed": false
   },
   "outputs": [
    {
     "name": "stdout",
     "output_type": "stream",
     "text": [
      "Enter Shopkeeper name :a'b\n",
      "a'b\n",
      "3\n"
     ]
    }
   ],
   "source": [
    "shopkeeper_name = input('Enter Shopkeeper name :')\n",
    "print(shopkeeper_name)\n",
    "print(len(shopkeeper_name))"
   ]
  },
  {
   "cell_type": "code",
   "execution_count": 34,
   "metadata": {
    "collapsed": false
   },
   "outputs": [
    {
     "name": "stdout",
     "output_type": "stream",
     "text": [
      "a'\n"
     ]
    }
   ],
   "source": [
    "print(shopkeeper_name[:-1])"
   ]
  },
  {
   "cell_type": "code",
   "execution_count": 39,
   "metadata": {
    "collapsed": false
   },
   "outputs": [
    {
     "name": "stdout",
     "output_type": "stream",
     "text": [
      "k\n",
      "123k <class 'str'>\n"
     ]
    }
   ],
   "source": [
    "y = '1'\n",
    "y += '2' + '3'\n",
    "y += input()\n",
    "print(y,type(y))"
   ]
  },
  {
   "cell_type": "code",
   "execution_count": 40,
   "metadata": {
    "collapsed": true
   },
   "outputs": [],
   "source": [
    "def la(a,b):\n",
    "    ka(a,a+b)\n",
    "    print(a*b)\n",
    "def ka(a,b):\n",
    "    print(a+b)"
   ]
  },
  {
   "cell_type": "code",
   "execution_count": 44,
   "metadata": {
    "collapsed": false
   },
   "outputs": [
    {
     "name": "stdout",
     "output_type": "stream",
     "text": [
      "\n",
      "None\n"
     ]
    }
   ],
   "source": [
    "hy = input()\n",
    "if len(hy) == 0:\n",
    "    hy = None\n",
    "print(hy)"
   ]
  }
 ],
 "metadata": {
  "kernelspec": {
   "display_name": "Python [Root]",
   "language": "python",
   "name": "Python [Root]"
  },
  "language_info": {
   "codemirror_mode": {
    "name": "ipython",
    "version": 3
   },
   "file_extension": ".py",
   "mimetype": "text/x-python",
   "name": "python",
   "nbconvert_exporter": "python",
   "pygments_lexer": "ipython3",
   "version": "3.5.2"
  }
 },
 "nbformat": 4,
 "nbformat_minor": 0
}
